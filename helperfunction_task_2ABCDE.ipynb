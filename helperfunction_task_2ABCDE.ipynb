{
  "nbformat": 4,
  "nbformat_minor": 0,
  "metadata": {
    "colab": {
      "provenance": [],
      "include_colab_link": true
    },
    "kernelspec": {
      "name": "python3",
      "display_name": "Python 3"
    },
    "language_info": {
      "name": "python"
    }
  },
  "cells": [
    {
      "cell_type": "markdown",
      "metadata": {
        "id": "view-in-github",
        "colab_type": "text"
      },
      "source": [
        "<a href=\"https://colab.research.google.com/github/everythingapplejj/Research-Graph-Embeddings-/blob/JJ/helperfunction_task_2ABCDE.ipynb\" target=\"_parent\"><img src=\"https://colab.research.google.com/assets/colab-badge.svg\" alt=\"Open In Colab\"/></a>"
      ]
    },
    {
      "cell_type": "code",
      "execution_count": 1,
      "metadata": {
        "id": "jvTAQ67r3H0Z"
      },
      "outputs": [],
      "source": [
        "#Welcome to helper funcition task 2!"
      ]
    },
    {
      "cell_type": "code",
      "source": [
        "# testing out task 2a"
      ],
      "metadata": {
        "id": "Dmm65mpD3OaT"
      },
      "execution_count": 2,
      "outputs": []
    },
    {
      "cell_type": "code",
      "source": [
        "#!/usr/bin/env python3\n",
        "# -*- coding: utf-8 -*-\n",
        "#testing visualization\n",
        "#Implementation by Jiwoong Jung\n",
        "import torch\n",
        "\n",
        "#placeholder values:\n",
        "\n",
        "# Print information about the dataset\n",
        "\n",
        "\n",
        "# Visualization\n",
        "import networkx as nx\n",
        "import matplotlib.pyplot as plt\n",
        "plt.rcParams['figure.dpi'] = 300\n",
        "plt.rcParams.update({'font.size': 24})\n",
        "from mpl_toolkits.mplot3d import Axes3D\n",
        "import numpy as np\n",
        "\"\"\"\n",
        "Created on Wed Aug 23 12:22:38 2023\n",
        "\n",
        "@author: vishalr\n",
        "\"\"\"\n",
        "\n",
        "# we can use the node labels for the first set of the x values\n",
        "# figure out ways to include diff files for the y_features (1st priority)\n",
        "# for now, do the y label first,\n",
        "# later consider the edge features and node features\n",
        "\n",
        "import pandas as pd\n",
        "import pickle\n",
        "import numpy as np\n",
        "\n",
        "\n",
        "#change this to the folder where you store your data\n",
        "data_dir = \"\"\n",
        "\n",
        "#each of the two data frames below have 20,000 rows, each corresponding to one sample from the original graph\n",
        "#each sample consists of 21 nodes; node_labels contains the names of these 21 nodes of the form Vxyz\n",
        "#each node is a DNA fragment of length 500 bases; so Vxyz coveres region [500*xyz, 500*xyz+500)\n",
        "#adjacency_matrix has the flattended adjacecny matrix for each of these 20,000 samples\n",
        "#so each row is of dimension 21*21 = 441\n",
        "\n",
        "\n",
        "#node_labels = np.load(data_dir+'df_chr2R_drosophila_ChIA_Drop_0.1_PASS_20000_MCMC_pivot_sample_node_matrix.npy')\n",
        "\n",
        "#adjacency_matrix = np.load(data_dir+'df_chr2R_drosophila_ChIA_Drop_0.1_PASS_20000_MCMC_pivot.npy')\n",
        "\n",
        "worklist_node_labels = []\n",
        "worklist_adjacency_matrix = []\n",
        "\n",
        "#importing the rest of the files\n",
        "# 2L = 0; 2R = 1; 3L = 2, 3R = 3\n",
        "\n",
        "node_labels_2L = np.load(data_dir+'df_chr2L_drosophila_ChIA_Drop_0.1_PASS_20000_MCMC_pivot_sample_node_matrix.npy')\n",
        "adjacency_matrix_2L = np.load(data_dir+'df_chr2L_drosophila_ChIA_Drop_0.1_PASS_20000_MCMC_pivot.npy')\n",
        "\n",
        "worklist_node_labels.append(node_labels_2L)\n",
        "worklist_adjacency_matrix.append(adjacency_matrix_2L)\n",
        "\n",
        "node_labels_2R = np.load(data_dir+'df_chr2R_drosophila_ChIA_Drop_0.1_PASS_20000_MCMC_pivot_sample_node_matrix.npy')\n",
        "adjacency_matrix_2R = np.load(data_dir+'df_chr2R_drosophila_ChIA_Drop_0.1_PASS_20000_MCMC_pivot.npy')\n",
        "\n",
        "worklist_node_labels.append(node_labels_2R)\n",
        "worklist_adjacency_matrix.append(adjacency_matrix_2R)\n",
        "\n",
        "node_labels_3L = np.load(data_dir+'df_chr3L_drosophila_ChIA_Drop_0.1_PASS_20000_MCMC_pivot_sample_node_matrix.npy')\n",
        "adjacency_matrix_3L = np.load(data_dir+'df_chr3L_drosophila_ChIA_Drop_0.1_PASS_20000_MCMC_pivot.npy')\n",
        "\n",
        "worklist_node_labels.append(node_labels_3L)\n",
        "worklist_adjacency_matrix.append(adjacency_matrix_3L)\n",
        "\n",
        "node_labels_3R = np.load(data_dir+'df_chr3R_drosophila_ChIA_Drop_0.1_PASS_20000_MCMC_pivot_sample_node_matrix.npy')\n",
        "adjacency_matrix_3R = np.load(data_dir+'df_chr3R_drosophila_ChIA_Drop_0.1_PASS_20000_MCMC_pivot.npy')\n",
        "\n",
        "\n",
        "worklist_node_labels.append(node_labels_3R)\n",
        "worklist_adjacency_matrix.append(adjacency_matrix_3R)"
      ],
      "metadata": {
        "id": "d00u7lEz32Gq"
      },
      "execution_count": 3,
      "outputs": []
    },
    {
      "cell_type": "code",
      "source": [
        "for i in range(0,len(worklist_adjacency_matrix)):\n",
        "  worklist_adjacency_matrix[i] = worklist_adjacency_matrix[i][:,:-1]"
      ],
      "metadata": {
        "id": "ohpHTcXp9Vt1"
      },
      "execution_count": 4,
      "outputs": []
    },
    {
      "cell_type": "code",
      "source": [
        "print(worklist_node_labels)\n",
        "print(len(worklist_node_labels))\n",
        "print(worklist_adjacency_matrix)"
      ],
      "metadata": {
        "colab": {
          "base_uri": "https://localhost:8080/"
        },
        "id": "jl6Emv1g9aMm",
        "outputId": "857f789a-4789-45d0-e8d6-3d9ed721d9fa"
      },
      "execution_count": 5,
      "outputs": [
        {
          "output_type": "stream",
          "name": "stdout",
          "text": [
            "[array([[ 5997, 19835,   969, ...,  4455, 27017, 27025],\n",
            "       [41207, 22040, 41207, ...,   135,   186,   153],\n",
            "       [13615, 16412, 16377, ..., 41754, 41780, 41767],\n",
            "       ...,\n",
            "       [39599,  9995, 38842, ..., 33868, 20856, 14348],\n",
            "       [39954,  9995, 10131, ...,  2117,  2259,  2251],\n",
            "       [32509, 19793, 19783, ...,  7313, 42107, 41499]]), array([[34307, 23565,  5042, ...,  5114, 12844, 12993],\n",
            "       [36450, 36179, 36450, ..., 22359, 28058, 30979],\n",
            "       [36450, 36179, 33947, ...,  9673, 20209, 12537],\n",
            "       ...,\n",
            "       [ 7427, 39513, 19626, ..., 25109, 25119, 27062],\n",
            "       [33656, 20125, 24230, ..., 28043, 29127, 29091],\n",
            "       [ 8127, 38554,  7700, ..., 24445, 25489,  3057]]), array([[41331,  1284,  1255, ..., 32082, 18737, 18660],\n",
            "       [ 1284,  1349,  1363, ...,  3939,  5692, 17395],\n",
            "       [24386,  5147, 32020, ..., 28096,  6446, 41308],\n",
            "       ...,\n",
            "       [ 3375, 19321,  1419, ..., 17371, 28421, 17371],\n",
            "       [44210,  1306,  3592, ..., 11490,  1774, 35930],\n",
            "       [42880, 30200, 36066, ...,  1580,  1412,  1281]]), array([[36929, 11842, 11826, ..., 52086,  3776, 52086],\n",
            "       [35302, 22138, 17078, ..., 10357,  1643, 10357],\n",
            "       [ 8844,  8561, 42692, ..., 24552, 39846, 19576],\n",
            "       ...,\n",
            "       [ 2397, 51377,   961, ..., 16770, 14170, 45505],\n",
            "       [ 2397, 51377, 24576, ..., 11841, 48797, 11841],\n",
            "       [49880, 31378, 39984, ..., 19015, 19026, 18944]])]\n",
            "4\n",
            "[array([[0., 1., 1., ..., 0., 1., 0.],\n",
            "       [0., 1., 0., ..., 1., 1., 0.],\n",
            "       [0., 1., 0., ..., 1., 1., 0.],\n",
            "       ...,\n",
            "       [0., 1., 0., ..., 0., 1., 0.],\n",
            "       [0., 1., 0., ..., 0., 1., 0.],\n",
            "       [0., 1., 0., ..., 0., 1., 0.]]), array([[0., 1., 0., ..., 0., 1., 0.],\n",
            "       [0., 1., 0., ..., 0., 1., 0.],\n",
            "       [0., 1., 1., ..., 0., 1., 0.],\n",
            "       ...,\n",
            "       [0., 1., 0., ..., 1., 1., 0.],\n",
            "       [0., 1., 0., ..., 0., 1., 0.],\n",
            "       [0., 1., 1., ..., 0., 1., 0.]]), array([[0., 1., 0., ..., 0., 1., 0.],\n",
            "       [0., 1., 0., ..., 0., 1., 0.],\n",
            "       [0., 1., 0., ..., 0., 1., 0.],\n",
            "       ...,\n",
            "       [0., 1., 0., ..., 0., 1., 0.],\n",
            "       [0., 1., 0., ..., 0., 1., 0.],\n",
            "       [0., 1., 0., ..., 0., 1., 0.]]), array([[0., 1., 0., ..., 0., 1., 0.],\n",
            "       [0., 1., 0., ..., 0., 1., 0.],\n",
            "       [0., 1., 0., ..., 0., 1., 0.],\n",
            "       ...,\n",
            "       [0., 1., 0., ..., 0., 1., 0.],\n",
            "       [0., 1., 0., ..., 0., 1., 0.],\n",
            "       [0., 1., 0., ..., 1., 1., 0.]])]\n"
          ]
        }
      ]
    },
    {
      "cell_type": "markdown",
      "source": [
        "Task 2A: Unique length 60,000:  [0,60,000 - 1] for each chromosome arm"
      ],
      "metadata": {
        "id": "T7ylK4TosUSw"
      }
    },
    {
      "cell_type": "code",
      "source": [
        "import numpy as np\n",
        "node_labels_addr = np.array([], dtype = int)\n",
        "chromosome_arm_count = 4\n",
        "for i in range(0, 60000 * chromosome_arm_count):\n",
        "  node_labels_addr = np.append(node_labels_addr,[i]) # this is amended to take 240,000 unique numbers\n",
        "\n",
        "#print(node_labels_addr)\n",
        "#print(node_labels_addr.shape)\n",
        "print(np.min(node_labels_addr))\n",
        "print(np.max(node_labels_addr))\n",
        "init = node_labels_addr.shape[0]\n",
        "node_labels_addr = node_labels_addr.reshape((init,1))\n",
        "print(node_labels_addr.shape)\n",
        "print(node_labels_addr)"
      ],
      "metadata": {
        "colab": {
          "base_uri": "https://localhost:8080/"
        },
        "id": "-PAi6bezrO1w",
        "outputId": "b0ce2c04-303b-4f17-9156-17cf1ce45b99"
      },
      "execution_count": 6,
      "outputs": [
        {
          "output_type": "stream",
          "name": "stdout",
          "text": [
            "0\n",
            "239999\n",
            "(240000, 1)\n",
            "[[     0]\n",
            " [     1]\n",
            " [     2]\n",
            " ...\n",
            " [239997]\n",
            " [239998]\n",
            " [239999]]\n"
          ]
        }
      ]
    },
    {
      "cell_type": "markdown",
      "source": [
        "We will go through the data cleaning process first\n",
        "\n"
      ],
      "metadata": {
        "id": "PQ31hhLsXG6d"
      }
    },
    {
      "cell_type": "code",
      "source": [
        "# Data cleaning function per subgraph\n",
        "import numpy as np\n",
        "def remove_duplicates(node_labels, adj_matrix):\n",
        "  sample_nodes = node_labels\n",
        "  sample_adj_matrix = adj_matrix\n",
        "  i = 0\n",
        "  j = i + 1\n",
        "  while(i < len(sample_nodes) - 1):\n",
        "    if(sample_nodes[i] == sample_nodes[j]):\n",
        "      sample_nodes = np.delete(sample_nodes,j)\n",
        "      sample_adj_matrix = np.delete(np.delete(sample_adj_matrix, j, 0), j, 1)\n",
        "      if(j >= len(sample_nodes)):\n",
        "        i = i + 1\n",
        "        j = i + 1\n",
        "      continue\n",
        "    else:\n",
        "      j = j + 1\n",
        "      if(j >= len(sample_nodes)):\n",
        "        i = i + 1\n",
        "        j = i + 1\n",
        "  return sample_nodes, sample_adj_matrix"
      ],
      "metadata": {
        "id": "Iwt83ocfb1Zm"
      },
      "execution_count": 7,
      "outputs": []
    },
    {
      "cell_type": "code",
      "source": [
        "# algorithm for subgraph delete duplicate\n",
        "worklist_new_adj_matrix = []\n",
        "worklist_new_node_labels = []\n",
        "\n",
        "counter = 0\n",
        "label_number = 0\n",
        "\n",
        "for adjacency_matrix in worklist_adjacency_matrix:\n",
        "  sample_graphs = \"\"\n",
        "  sample_nodes = \"\"\n",
        "  adj_matrix = []\n",
        "  node_labels = []\n",
        "  for graph in adjacency_matrix:\n",
        "    sample_graph = graph.reshape(21,21)\n",
        "    sample_node = worklist_node_labels[label_number][counter]\n",
        "    sample_node, sample_graphs = remove_duplicates(sample_node, sample_graph)\n",
        "    adj_matrix.append(sample_graphs)\n",
        "    node_labels.append(sample_node)\n",
        "    counter = counter + 1\n",
        "  worklist_new_adj_matrix.append(adj_matrix)\n",
        "  worklist_new_node_labels.append(node_labels)\n",
        "  counter = 0\n",
        "  label_number = label_number + 1"
      ],
      "metadata": {
        "id": "VQiP1snGcZiw"
      },
      "execution_count": 8,
      "outputs": []
    },
    {
      "cell_type": "code",
      "source": [
        "print(len(worklist_new_adj_matrix))"
      ],
      "metadata": {
        "colab": {
          "base_uri": "https://localhost:8080/"
        },
        "id": "mE_f0ejPcsam",
        "outputId": "3a270229-3ac2-4a93-feb7-423f0ef92041"
      },
      "execution_count": 9,
      "outputs": [
        {
          "output_type": "stream",
          "name": "stdout",
          "text": [
            "4\n"
          ]
        }
      ]
    },
    {
      "cell_type": "code",
      "source": [
        "# testing which method is faster:\n",
        "import numpy as np\n",
        "import time\n",
        "\n",
        "# Using np.vstack in a loop\n",
        "start_time = time.time()\n",
        "a = np.empty((0, 2), dtype=int)\n",
        "for i in range(200000):\n",
        "    new_row = np.array([i, i+1])\n",
        "    a = np.vstack([a, new_row])\n",
        "print(\"Time with vstack: {:.2f} seconds\".format(time.time() - start_time))\n",
        "\n",
        "# Using list and converting to np.array at the end\n",
        "start_time = time.time()\n",
        "a_list = []\n",
        "for i in range(200000):\n",
        "    new_row = [i, i+1]\n",
        "    a_list.append(new_row)\n",
        "a = np.array(a_list, dtype=int)\n",
        "print(\"Time with list: {:.2f} seconds\".format(time.time() - start_time))\n",
        "\n",
        "\n",
        "#utilizing list is faster! vstack has exponential growth in time."
      ],
      "metadata": {
        "colab": {
          "base_uri": "https://localhost:8080/"
        },
        "id": "8JoHEB8Zv8DO",
        "outputId": "4c4daad3-c902-4abc-85bc-94b62b492f8c"
      },
      "execution_count": 10,
      "outputs": [
        {
          "output_type": "stream",
          "name": "stdout",
          "text": [
            "Time with vstack: 37.02 seconds\n",
            "Time with list: 0.40 seconds\n"
          ]
        }
      ]
    },
    {
      "cell_type": "markdown",
      "source": [
        "Task 2B : Same shape as 2A, but includes the node features. We currently do not have datas on node features, we do have datas on node labels. We will discuss about this in our next meeting."
      ],
      "metadata": {
        "id": "-Uxwp1wukQJg"
      }
    },
    {
      "cell_type": "code",
      "source": [
        "task_2b_list = np.zeros_like(node_labels_addr)\n",
        "task_2b = np.array(task_2b_list, dtype=int)\n",
        "print(\"Result of Task 2B: \")\n",
        "print(task_2b)\n",
        "print(\"Shape of task 2B: \")\n",
        "print(task_2b.shape)\n",
        "\n",
        "# Each of the subarrays will carry important information on the node"
      ],
      "metadata": {
        "colab": {
          "base_uri": "https://localhost:8080/"
        },
        "id": "pwNSvFdIkScT",
        "outputId": "dcf184ac-7bd9-47f2-e3dc-8e63794aa325"
      },
      "execution_count": 11,
      "outputs": [
        {
          "output_type": "stream",
          "name": "stdout",
          "text": [
            "Result of Task 2B: \n",
            "[[0]\n",
            " [0]\n",
            " [0]\n",
            " ...\n",
            " [0]\n",
            " [0]\n",
            " [0]]\n",
            "Shape of task 2B: \n",
            "(240000, 1)\n"
          ]
        }
      ]
    },
    {
      "cell_type": "markdown",
      "source": [
        "Task 2C : Pairs of nodes connected by an edge\n",
        "\n",
        "\n",
        "Task 2D : Same shape as Task 2C, 80,000 unique numbers form all 4 chromosomes, indicating which subgraphs it came from.\n",
        "\n",
        "\n",
        "Task 2E : Same shape as Task 2E, 4 unique numbers from all 4 chromosomes, indicating which chromosome arm it came from."
      ],
      "metadata": {
        "id": "wQKiMsGaxWpg"
      }
    },
    {
      "cell_type": "code",
      "source": [
        "#using list instead of vstack\n",
        "\n",
        "import numpy as np\n",
        "\n",
        "\n",
        "task_2c_list = []\n",
        "task_2d_list = []\n",
        "task_2e_list = []\n",
        "\n",
        "# for task 2c, you need to reflect the 2A node labels\n",
        "\n",
        "counter_2d = 0\n",
        "counter_out = 0\n",
        "for chromosome in worklist_new_adj_matrix:\n",
        "    lookup = worklist_new_node_labels[counter_out]\n",
        "    counter_in = 0\n",
        "    for graphs in chromosome:\n",
        "        lookup_vid = lookup[counter_in]\n",
        "        show = np.where(graphs == 1)\n",
        "        for i in range(len(show[0])):\n",
        "            offset = counter_out * 60000\n",
        "            task_2c_list.append([offset + lookup_vid[show[0][i]], offset + lookup_vid[show[1][i]]]) # now reflecting 2A Vids\n",
        "            task_2d_list.append([counter_2d])\n",
        "            task_2e_list.append([counter_out])\n",
        "        counter_in += 1\n",
        "        counter_2d += 1\n",
        "    counter_out += 1\n",
        "    print(counter_out)\n",
        "\n",
        "\n",
        "task_2c = np.array(task_2c_list, dtype=int)\n",
        "task_2d = np.array(task_2d_list, dtype=int)\n",
        "task_2e = np.array(task_2e_list, dtype=int)\n",
        "\n",
        "print(\"Result of Task 2C: \")\n",
        "print(task_2c)\n",
        "print(\"Shape of task 2C: \")\n",
        "print(task_2c.shape)\n",
        "print(\"Result of Task 2D: \")\n",
        "print(task_2d)\n",
        "print(\"Shape of task 2D: \")\n",
        "print(task_2d.shape)\n",
        "print(\"Result of Task 2E: \")\n",
        "print(task_2e)\n",
        "print(\"Shape of task 2E: \")\n",
        "print(task_2e.shape)\n"
      ],
      "metadata": {
        "colab": {
          "base_uri": "https://localhost:8080/"
        },
        "id": "tgFUMCMPrPQA",
        "outputId": "9589b976-bfec-46b3-dae5-ab1fe2e0ff2e"
      },
      "execution_count": 13,
      "outputs": [
        {
          "output_type": "stream",
          "name": "stdout",
          "text": [
            "1\n",
            "2\n",
            "3\n",
            "4\n",
            "Result of Task 2C: \n",
            "[[  5997  19835]\n",
            " [  5997    969]\n",
            " [ 19835   5997]\n",
            " ...\n",
            " [199026 198944]\n",
            " [199026 198990]\n",
            " [199026 199015]]\n",
            "Shape of task 2C: \n",
            "(2996406, 2)\n",
            "Result of Task 2D: \n",
            "[[    0]\n",
            " [    0]\n",
            " [    0]\n",
            " ...\n",
            " [79999]\n",
            " [79999]\n",
            " [79999]]\n",
            "Shape of task 2D: \n",
            "(2996406, 1)\n",
            "Result of Task 2E: \n",
            "[[0]\n",
            " [0]\n",
            " [0]\n",
            " ...\n",
            " [3]\n",
            " [3]\n",
            " [3]]\n",
            "Shape of task 2E: \n",
            "(2996406, 1)\n"
          ]
        }
      ]
    },
    {
      "cell_type": "code",
      "source": [
        "#sample output:\n",
        "print(\"Random Edge (pairs of node): \", task_2c[1996410])\n",
        "print(\"Which subgraph is it from (Unique Numbers): \", task_2d[1996410])\n",
        "print(\"Which chromosome is it from: \", task_2e[1996410])\n",
        "\n",
        "\n",
        "print(\"Random Edge (pairs of node): \", task_2c[0])\n",
        "print(\"Which subgraph is it from (Unique Numbers): \", task_2d[0])\n",
        "print(\"Which chromosome is it from: \", task_2e[0])\n",
        "\n",
        "\n",
        "print(\"Random Edge (pairs of node): \", task_2c[len(task_2c) - 1])\n",
        "print(\"Which subgraph is it from (Unique Numbers): \", task_2d[len(task_2c) - 1])\n",
        "print(\"Which chromosome is it from: \", task_2e[len(task_2c) - 1])"
      ],
      "metadata": {
        "colab": {
          "base_uri": "https://localhost:8080/"
        },
        "id": "dXS42TUJxVgo",
        "outputId": "8603b518-586c-4204-a825-af80022a7997"
      },
      "execution_count": 15,
      "outputs": [
        {
          "output_type": "stream",
          "name": "stdout",
          "text": [
            "Random Edge (pairs of node):  [146810 137086]\n",
            "Which subgraph is it from (Unique Numbers):  [53391]\n",
            "Which chromosome is it from:  [2]\n",
            "Random Edge (pairs of node):  [ 5997 19835]\n",
            "Which subgraph is it from (Unique Numbers):  [0]\n",
            "Which chromosome is it from:  [0]\n",
            "Random Edge (pairs of node):  [199026 199015]\n",
            "Which subgraph is it from (Unique Numbers):  [79999]\n",
            "Which chromosome is it from:  [3]\n"
          ]
        }
      ]
    },
    {
      "cell_type": "markdown",
      "source": [
        "Once the Tasks are completed, we will copy the information to the files."
      ],
      "metadata": {
        "id": "XKHUDMixtUtA"
      }
    }
  ]
}