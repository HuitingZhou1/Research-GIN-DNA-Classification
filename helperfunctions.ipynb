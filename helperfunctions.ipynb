{
  "nbformat": 4,
  "nbformat_minor": 0,
  "metadata": {
    "colab": {
      "provenance": [],
      "authorship_tag": "ABX9TyNq3wPrbgEw+PoPhffOr+vk",
      "include_colab_link": true
    },
    "kernelspec": {
      "name": "python3",
      "display_name": "Python 3"
    },
    "language_info": {
      "name": "python"
    }
  },
  "cells": [
    {
      "cell_type": "markdown",
      "metadata": {
        "id": "view-in-github",
        "colab_type": "text"
      },
      "source": [
        "<a href=\"https://colab.research.google.com/github/everythingapplejj/Research-Graph-Embeddings-/blob/JJ/helperfunctions.ipynb\" target=\"_parent\"><img src=\"https://colab.research.google.com/assets/colab-badge.svg\" alt=\"Open In Colab\"/></a>"
      ]
    },
    {
      "cell_type": "code",
      "execution_count": 2,
      "metadata": {
        "id": "zPNtuz1B4qNe"
      },
      "outputs": [],
      "source": [
        "#!/usr/bin/env python3\n",
        "# -*- coding: utf-8 -*-\n",
        "#testing visualization\n",
        "#Implementation by Jiwoong Jung\n",
        "import torch\n",
        "\n",
        "#placeholder values:\n",
        "\n",
        "# Print information about the dataset\n",
        "\n",
        "\n",
        "# Visualization\n",
        "import numpy as np\n",
        "\"\"\"\n",
        "Created on Wed Aug 23 12:22:38 2023\n",
        "\n",
        "@author: vishalr\n",
        "\"\"\"\n",
        "\n",
        "# we can use the node labels for the first set of the x values\n",
        "# figure out ways to include diff files for the y_features (1st priority)\n",
        "# for now, do the y label first,\n",
        "# later consider the edge features and node features\n",
        "\n",
        "import pandas as pd\n",
        "import pickle\n",
        "import numpy as np\n",
        "\n",
        "\n",
        "#change this to the folder where you store your data\n",
        "data_dir = \"\"\n",
        "\n",
        "#each of the two data frames below have 20,000 rows, each corresponding to one sample from the original graph\n",
        "#each sample consists of 21 nodes; node_labels contains the names of these 21 nodes of the form Vxyz\n",
        "#each node is a DNA fragment of length 500 bases; so Vxyz coveres region [500*xyz, 500*xyz+500)\n",
        "#adjacency_matrix has the flattended adjacecny matrix for each of these 20,000 samples\n",
        "#so each row is of dimension 21*21 = 441\n",
        "\n",
        "\n",
        "#node_labels = np.load(data_dir+'df_chr2R_drosophila_ChIA_Drop_0.1_PASS_20000_MCMC_pivot_sample_node_matrix.npy')\n",
        "\n",
        "#adjacency_matrix = np.load(data_dir+'df_chr2R_drosophila_ChIA_Drop_0.1_PASS_20000_MCMC_pivot.npy')\n",
        "\n",
        "worklist_node_labels = []\n",
        "worklist_adjacency_matrix = []\n",
        "\n",
        "#importing the rest of the files\n",
        "# 2L = 0; 2R = 1; 3L = 2, 3R = 3\n",
        "\n",
        "node_labels_2L = np.load(data_dir+'df_chr2L_drosophila_ChIA_Drop_0.1_PASS_20000_MCMC_pivot_sample_node_matrix.npy')\n",
        "adjacency_matrix_2L = np.load(data_dir+'df_chr2L_drosophila_ChIA_Drop_0.1_PASS_20000_MCMC_pivot.npy')\n",
        "\n",
        "worklist_node_labels.append(node_labels_2L)\n",
        "worklist_adjacency_matrix.append(adjacency_matrix_2L)\n",
        "\n",
        "node_labels_2R = np.load(data_dir+'df_chr2R_drosophila_ChIA_Drop_0.1_PASS_20000_MCMC_pivot_sample_node_matrix.npy')\n",
        "adjacency_matrix_2R = np.load(data_dir+'df_chr2R_drosophila_ChIA_Drop_0.1_PASS_20000_MCMC_pivot.npy')\n",
        "\n",
        "worklist_node_labels.append(node_labels_2R)\n",
        "worklist_adjacency_matrix.append(adjacency_matrix_2R)\n",
        "\n",
        "node_labels_3L = np.load(data_dir+'df_chr3L_drosophila_ChIA_Drop_0.1_PASS_20000_MCMC_pivot_sample_node_matrix.npy')\n",
        "adjacency_matrix_3L = np.load(data_dir+'df_chr3L_drosophila_ChIA_Drop_0.1_PASS_20000_MCMC_pivot.npy')\n",
        "\n",
        "worklist_node_labels.append(node_labels_3L)\n",
        "worklist_adjacency_matrix.append(adjacency_matrix_3L)\n",
        "\n",
        "node_labels_3R = np.load(data_dir+'df_chr3R_drosophila_ChIA_Drop_0.1_PASS_20000_MCMC_pivot_sample_node_matrix.npy')\n",
        "adjacency_matrix_3R = np.load(data_dir+'df_chr3R_drosophila_ChIA_Drop_0.1_PASS_20000_MCMC_pivot.npy')\n",
        "\n",
        "\n",
        "worklist_node_labels.append(node_labels_3R)\n",
        "worklist_adjacency_matrix.append(adjacency_matrix_3R)"
      ]
    },
    {
      "cell_type": "code",
      "source": [
        "print(worklist_adjacency_matrix)"
      ],
      "metadata": {
        "colab": {
          "base_uri": "https://localhost:8080/"
        },
        "id": "UG1xxAZH5fLs",
        "outputId": "da7745a0-00ab-4059-8770-68278349fcbc"
      },
      "execution_count": 3,
      "outputs": [
        {
          "output_type": "stream",
          "name": "stdout",
          "text": [
            "[array([[ 0.,  1.,  1., ...,  1.,  0., -1.],\n",
            "       [ 0.,  1.,  0., ...,  1.,  0., -1.],\n",
            "       [ 0.,  1.,  0., ...,  1.,  0., -1.],\n",
            "       ...,\n",
            "       [ 0.,  1.,  0., ...,  1.,  0., -1.],\n",
            "       [ 0.,  1.,  0., ...,  1.,  0., -1.],\n",
            "       [ 0.,  1.,  0., ...,  1.,  0., -1.]]), array([[ 0.,  1.,  0., ...,  1.,  0., -1.],\n",
            "       [ 0.,  1.,  0., ...,  1.,  0., -1.],\n",
            "       [ 0.,  1.,  1., ...,  1.,  0., -1.],\n",
            "       ...,\n",
            "       [ 0.,  1.,  0., ...,  1.,  0., -1.],\n",
            "       [ 0.,  1.,  0., ...,  1.,  0., -1.],\n",
            "       [ 0.,  1.,  1., ...,  1.,  0., -1.]]), array([[ 0.,  1.,  0., ...,  1.,  0., -1.],\n",
            "       [ 0.,  1.,  0., ...,  1.,  0., -1.],\n",
            "       [ 0.,  1.,  0., ...,  1.,  0., -1.],\n",
            "       ...,\n",
            "       [ 0.,  1.,  0., ...,  1.,  0., -1.],\n",
            "       [ 0.,  1.,  0., ...,  1.,  0., -1.],\n",
            "       [ 0.,  1.,  0., ...,  1.,  0., -1.]]), array([[ 0.,  1.,  0., ...,  1.,  0., -1.],\n",
            "       [ 0.,  1.,  0., ...,  1.,  0., -1.],\n",
            "       [ 0.,  1.,  0., ...,  1.,  0., -1.],\n",
            "       ...,\n",
            "       [ 0.,  1.,  0., ...,  1.,  0., -1.],\n",
            "       [ 0.,  1.,  0., ...,  1.,  0., -1.],\n",
            "       [ 0.,  1.,  0., ...,  1.,  0., -1.]])]\n"
          ]
        }
      ]
    },
    {
      "cell_type": "code",
      "source": [
        "print(worklist_node_labels)"
      ],
      "metadata": {
        "colab": {
          "base_uri": "https://localhost:8080/"
        },
        "id": "zgMkY_Y-5p2n",
        "outputId": "c96a7153-555a-414c-806f-eb7f6a884fd9"
      },
      "execution_count": 4,
      "outputs": [
        {
          "output_type": "stream",
          "name": "stdout",
          "text": [
            "[array([[ 5997, 19835,   969, ...,  4455, 27017, 27025],\n",
            "       [41207, 22040, 41207, ...,   135,   186,   153],\n",
            "       [13615, 16412, 16377, ..., 41754, 41780, 41767],\n",
            "       ...,\n",
            "       [39599,  9995, 38842, ..., 33868, 20856, 14348],\n",
            "       [39954,  9995, 10131, ...,  2117,  2259,  2251],\n",
            "       [32509, 19793, 19783, ...,  7313, 42107, 41499]]), array([[34307, 23565,  5042, ...,  5114, 12844, 12993],\n",
            "       [36450, 36179, 36450, ..., 22359, 28058, 30979],\n",
            "       [36450, 36179, 33947, ...,  9673, 20209, 12537],\n",
            "       ...,\n",
            "       [ 7427, 39513, 19626, ..., 25109, 25119, 27062],\n",
            "       [33656, 20125, 24230, ..., 28043, 29127, 29091],\n",
            "       [ 8127, 38554,  7700, ..., 24445, 25489,  3057]]), array([[41331,  1284,  1255, ..., 32082, 18737, 18660],\n",
            "       [ 1284,  1349,  1363, ...,  3939,  5692, 17395],\n",
            "       [24386,  5147, 32020, ..., 28096,  6446, 41308],\n",
            "       ...,\n",
            "       [ 3375, 19321,  1419, ..., 17371, 28421, 17371],\n",
            "       [44210,  1306,  3592, ..., 11490,  1774, 35930],\n",
            "       [42880, 30200, 36066, ...,  1580,  1412,  1281]]), array([[36929, 11842, 11826, ..., 52086,  3776, 52086],\n",
            "       [35302, 22138, 17078, ..., 10357,  1643, 10357],\n",
            "       [ 8844,  8561, 42692, ..., 24552, 39846, 19576],\n",
            "       ...,\n",
            "       [ 2397, 51377,   961, ..., 16770, 14170, 45505],\n",
            "       [ 2397, 51377, 24576, ..., 11841, 48797, 11841],\n",
            "       [49880, 31378, 39984, ..., 19015, 19026, 18944]])]\n"
          ]
        }
      ]
    },
    {
      "cell_type": "code",
      "source": [
        "for i in range(0,len(worklist_adjacency_matrix)):\n",
        "  worklist_adjacency_matrix[i] = worklist_adjacency_matrix[i][:,:-1]"
      ],
      "metadata": {
        "id": "GnhQcLvQ6APh"
      },
      "execution_count": 9,
      "outputs": []
    },
    {
      "cell_type": "code",
      "source": [
        "worklist_node_labels[0].shape"
      ],
      "metadata": {
        "colab": {
          "base_uri": "https://localhost:8080/"
        },
        "id": "2KjELoec5sfu",
        "outputId": "aeb2d9c5-9452-41c2-d3a3-546d2c1b2c3d"
      },
      "execution_count": 10,
      "outputs": [
        {
          "output_type": "execute_result",
          "data": {
            "text/plain": [
              "(20000, 21)"
            ]
          },
          "metadata": {},
          "execution_count": 10
        }
      ]
    },
    {
      "cell_type": "code",
      "source": [
        "worklist_adjacency_matrix[0].shape"
      ],
      "metadata": {
        "colab": {
          "base_uri": "https://localhost:8080/"
        },
        "id": "uL31DnMZ54P8",
        "outputId": "658157ee-082f-44b1-946d-97b8514a4921"
      },
      "execution_count": 11,
      "outputs": [
        {
          "output_type": "execute_result",
          "data": {
            "text/plain": [
              "(20000, 441)"
            ]
          },
          "metadata": {},
          "execution_count": 11
        }
      ]
    },
    {
      "cell_type": "code",
      "source": [
        "sample_node = worklist_node_labels[0]\n",
        "sample_adj = worklist_adjacency_matrix[0][0]\n",
        "sample_adj = sample_adj.reshape(21,21)\n",
        "print(sample_adj.reshape(21,21))\n",
        "print(sample_adj.shape)"
      ],
      "metadata": {
        "colab": {
          "base_uri": "https://localhost:8080/"
        },
        "id": "KK74nYG95-kD",
        "outputId": "6f3c993d-06fe-4cab-d96b-60cf451b83e0"
      },
      "execution_count": 22,
      "outputs": [
        {
          "output_type": "stream",
          "name": "stdout",
          "text": [
            "[[0. 1. 1. 0. 0. 0. 0. 0. 0. 0. 0. 0. 0. 0. 0. 0. 0. 0. 0. 0. 0.]\n",
            " [1. 0. 1. 0. 0. 0. 0. 0. 0. 0. 0. 0. 0. 0. 0. 0. 0. 0. 0. 0. 0.]\n",
            " [1. 1. 0. 1. 0. 0. 0. 0. 0. 0. 0. 0. 0. 0. 0. 0. 0. 0. 0. 0. 0.]\n",
            " [0. 0. 1. 0. 1. 0. 0. 0. 0. 0. 0. 0. 0. 0. 0. 0. 0. 0. 0. 0. 0.]\n",
            " [0. 0. 0. 1. 0. 1. 0. 1. 0. 1. 0. 1. 0. 0. 0. 0. 0. 0. 0. 0. 0.]\n",
            " [0. 0. 0. 0. 1. 0. 1. 0. 1. 0. 1. 0. 1. 0. 0. 0. 0. 0. 0. 1. 0.]\n",
            " [0. 0. 0. 0. 0. 1. 0. 1. 0. 1. 0. 1. 0. 0. 0. 0. 0. 0. 0. 0. 0.]\n",
            " [0. 0. 0. 0. 1. 0. 1. 0. 1. 0. 1. 0. 1. 0. 0. 0. 0. 0. 0. 1. 0.]\n",
            " [0. 0. 0. 0. 0. 1. 0. 1. 0. 1. 0. 1. 0. 0. 0. 0. 0. 0. 0. 0. 0.]\n",
            " [0. 0. 0. 0. 1. 0. 1. 0. 1. 0. 1. 0. 1. 0. 0. 0. 0. 0. 0. 1. 0.]\n",
            " [0. 0. 0. 0. 0. 1. 0. 1. 0. 1. 0. 1. 0. 0. 0. 0. 0. 0. 0. 0. 0.]\n",
            " [0. 0. 0. 0. 1. 0. 1. 0. 1. 0. 1. 0. 1. 0. 0. 0. 0. 0. 0. 1. 0.]\n",
            " [0. 0. 0. 0. 0. 1. 0. 1. 0. 1. 0. 1. 0. 1. 1. 1. 1. 1. 1. 0. 1.]\n",
            " [0. 0. 0. 0. 0. 0. 0. 0. 0. 0. 0. 0. 1. 0. 1. 1. 1. 0. 1. 1. 0.]\n",
            " [0. 0. 0. 0. 0. 0. 0. 0. 0. 0. 0. 0. 1. 1. 0. 1. 0. 1. 1. 1. 0.]\n",
            " [0. 0. 0. 0. 0. 0. 0. 0. 0. 0. 0. 0. 1. 1. 1. 0. 1. 1. 0. 1. 0.]\n",
            " [0. 0. 0. 0. 0. 0. 0. 0. 0. 0. 0. 0. 1. 1. 0. 1. 0. 1. 1. 1. 0.]\n",
            " [0. 0. 0. 0. 0. 0. 0. 0. 0. 0. 0. 0. 1. 0. 1. 1. 1. 0. 1. 1. 0.]\n",
            " [0. 0. 0. 0. 0. 0. 0. 0. 0. 0. 0. 0. 1. 1. 1. 0. 1. 1. 0. 1. 0.]\n",
            " [0. 0. 0. 0. 0. 1. 0. 1. 0. 1. 0. 1. 0. 1. 1. 1. 1. 1. 1. 0. 1.]\n",
            " [0. 0. 0. 0. 0. 0. 0. 0. 0. 0. 0. 0. 1. 0. 0. 0. 0. 0. 0. 1. 0.]]\n",
            "(21, 21)\n"
          ]
        }
      ]
    },
    {
      "cell_type": "code",
      "source": [
        "def isOverlap(line_1, line_2):\n",
        "  if(len(line_1) != len(line_2)):\n",
        "    return False\n",
        "  else:\n",
        "    for i in range(0, len(line_1)):\n",
        "      if(line_1[i] != line_2[i]):\n",
        "        return False\n",
        "  return True"
      ],
      "metadata": {
        "id": "3ibH0wOj_qA1"
      },
      "execution_count": 30,
      "outputs": []
    },
    {
      "cell_type": "code",
      "source": [
        "def node_number_duplicate(adj_matrix):\n",
        "  counter = 0\n",
        "  for i in range(0, adj_matrix.shape[0] - 1):\n",
        "    for j in range(i + 1, adj_matrix.shape[1]):\n",
        "      if(isOverlap(adj_matrix[i], adj_matrix[j]) == True):\n",
        "        counter = counter + 1\n",
        "        print(i,j)\n",
        "  return counter"
      ],
      "metadata": {
        "id": "YoPlOb8H6nK4"
      },
      "execution_count": 33,
      "outputs": []
    },
    {
      "cell_type": "code",
      "source": [
        "node_number_duplicate(sample_adj)"
      ],
      "metadata": {
        "colab": {
          "base_uri": "https://localhost:8080/"
        },
        "id": "CEsc0Kh67avO",
        "outputId": "7cdb64dc-d889-4166-dd01-ebb8906d0ae2"
      },
      "execution_count": 34,
      "outputs": [
        {
          "output_type": "stream",
          "name": "stdout",
          "text": [
            "5 7\n",
            "5 9\n",
            "5 11\n",
            "6 8\n",
            "6 10\n",
            "7 9\n",
            "7 11\n",
            "8 10\n",
            "9 11\n",
            "12 19\n",
            "13 17\n",
            "14 16\n",
            "15 18\n"
          ]
        },
        {
          "output_type": "execute_result",
          "data": {
            "text/plain": [
              "13"
            ]
          },
          "metadata": {},
          "execution_count": 34
        }
      ]
    },
    {
      "cell_type": "code",
      "source": [
        "print(sample_adj[5])\n",
        "print(sample_adj[7])"
      ],
      "metadata": {
        "colab": {
          "base_uri": "https://localhost:8080/"
        },
        "id": "lphc67047lUV",
        "outputId": "52683626-57fd-4e61-f06d-3969b17d8702"
      },
      "execution_count": 36,
      "outputs": [
        {
          "output_type": "stream",
          "name": "stdout",
          "text": [
            "[0. 0. 0. 0. 1. 0. 1. 0. 1. 0. 1. 0. 1. 0. 0. 0. 0. 0. 0. 1. 0.]\n",
            "[0. 0. 0. 0. 1. 0. 1. 0. 1. 0. 1. 0. 1. 0. 0. 0. 0. 0. 0. 1. 0.]\n"
          ]
        }
      ]
    },
    {
      "cell_type": "code",
      "source": [],
      "metadata": {
        "id": "Qqemmk0UB7Rp"
      },
      "execution_count": null,
      "outputs": []
    }
  ]
}