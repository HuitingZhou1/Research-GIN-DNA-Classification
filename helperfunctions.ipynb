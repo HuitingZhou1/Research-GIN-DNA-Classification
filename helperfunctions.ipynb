{
  "nbformat": 4,
  "nbformat_minor": 0,
  "metadata": {
    "colab": {
      "provenance": [],
      "authorship_tag": "ABX9TyPnRtmtEcRC9W+K02cpcRdH",
      "include_colab_link": true
    },
    "kernelspec": {
      "name": "python3",
      "display_name": "Python 3"
    },
    "language_info": {
      "name": "python"
    }
  },
  "cells": [
    {
      "cell_type": "markdown",
      "metadata": {
        "id": "view-in-github",
        "colab_type": "text"
      },
      "source": [
        "<a href=\"https://colab.research.google.com/github/everythingapplejj/Research-Graph-Embeddings-/blob/JJ/helperfunctions.ipynb\" target=\"_parent\"><img src=\"https://colab.research.google.com/assets/colab-badge.svg\" alt=\"Open In Colab\"/></a>"
      ]
    },
    {
      "cell_type": "code",
      "execution_count": 2,
      "metadata": {
        "id": "zPNtuz1B4qNe"
      },
      "outputs": [],
      "source": [
        "#!/usr/bin/env python3\n",
        "# -*- coding: utf-8 -*-\n",
        "#testing visualization\n",
        "#Implementation by Jiwoong Jung\n",
        "import torch\n",
        "\n",
        "#placeholder values:\n",
        "\n",
        "# Print information about the dataset\n",
        "\n",
        "\n",
        "# Visualization\n",
        "import numpy as np\n",
        "\"\"\"\n",
        "Created on Wed Aug 23 12:22:38 2023\n",
        "\n",
        "@author: vishalr\n",
        "\"\"\"\n",
        "\n",
        "# we can use the node labels for the first set of the x values\n",
        "# figure out ways to include diff files for the y_features (1st priority)\n",
        "# for now, do the y label first,\n",
        "# later consider the edge features and node features\n",
        "\n",
        "import pandas as pd\n",
        "import pickle\n",
        "import numpy as np\n",
        "\n",
        "\n",
        "#change this to the folder where you store your data\n",
        "data_dir = \"\"\n",
        "\n",
        "#each of the two data frames below have 20,000 rows, each corresponding to one sample from the original graph\n",
        "#each sample consists of 21 nodes; node_labels contains the names of these 21 nodes of the form Vxyz\n",
        "#each node is a DNA fragment of length 500 bases; so Vxyz coveres region [500*xyz, 500*xyz+500)\n",
        "#adjacency_matrix has the flattended adjacecny matrix for each of these 20,000 samples\n",
        "#so each row is of dimension 21*21 = 441\n",
        "\n",
        "\n",
        "#node_labels = np.load(data_dir+'df_chr2R_drosophila_ChIA_Drop_0.1_PASS_20000_MCMC_pivot_sample_node_matrix.npy')\n",
        "\n",
        "#adjacency_matrix = np.load(data_dir+'df_chr2R_drosophila_ChIA_Drop_0.1_PASS_20000_MCMC_pivot.npy')\n",
        "\n",
        "worklist_node_labels = []\n",
        "worklist_adjacency_matrix = []\n",
        "\n",
        "#importing the rest of the files\n",
        "# 2L = 0; 2R = 1; 3L = 2, 3R = 3\n",
        "\n",
        "node_labels_2L = np.load(data_dir+'df_chr2L_drosophila_ChIA_Drop_0.1_PASS_20000_MCMC_pivot_sample_node_matrix.npy')\n",
        "adjacency_matrix_2L = np.load(data_dir+'df_chr2L_drosophila_ChIA_Drop_0.1_PASS_20000_MCMC_pivot.npy')\n",
        "\n",
        "worklist_node_labels.append(node_labels_2L)\n",
        "worklist_adjacency_matrix.append(adjacency_matrix_2L)\n",
        "\n",
        "node_labels_2R = np.load(data_dir+'df_chr2R_drosophila_ChIA_Drop_0.1_PASS_20000_MCMC_pivot_sample_node_matrix.npy')\n",
        "adjacency_matrix_2R = np.load(data_dir+'df_chr2R_drosophila_ChIA_Drop_0.1_PASS_20000_MCMC_pivot.npy')\n",
        "\n",
        "worklist_node_labels.append(node_labels_2R)\n",
        "worklist_adjacency_matrix.append(adjacency_matrix_2R)\n",
        "\n",
        "node_labels_3L = np.load(data_dir+'df_chr3L_drosophila_ChIA_Drop_0.1_PASS_20000_MCMC_pivot_sample_node_matrix.npy')\n",
        "adjacency_matrix_3L = np.load(data_dir+'df_chr3L_drosophila_ChIA_Drop_0.1_PASS_20000_MCMC_pivot.npy')\n",
        "\n",
        "worklist_node_labels.append(node_labels_3L)\n",
        "worklist_adjacency_matrix.append(adjacency_matrix_3L)\n",
        "\n",
        "node_labels_3R = np.load(data_dir+'df_chr3R_drosophila_ChIA_Drop_0.1_PASS_20000_MCMC_pivot_sample_node_matrix.npy')\n",
        "adjacency_matrix_3R = np.load(data_dir+'df_chr3R_drosophila_ChIA_Drop_0.1_PASS_20000_MCMC_pivot.npy')\n",
        "\n",
        "\n",
        "worklist_node_labels.append(node_labels_3R)\n",
        "worklist_adjacency_matrix.append(adjacency_matrix_3R)"
      ]
    },
    {
      "cell_type": "code",
      "source": [
        "print(worklist_adjacency_matrix)"
      ],
      "metadata": {
        "colab": {
          "base_uri": "https://localhost:8080/"
        },
        "id": "UG1xxAZH5fLs",
        "outputId": "94182cde-9740-4987-f265-c8a16bfe26e7"
      },
      "execution_count": 3,
      "outputs": [
        {
          "output_type": "stream",
          "name": "stdout",
          "text": [
            "[array([[ 0.,  1.,  1., ...,  1.,  0., -1.],\n",
            "       [ 0.,  1.,  0., ...,  1.,  0., -1.],\n",
            "       [ 0.,  1.,  0., ...,  1.,  0., -1.],\n",
            "       ...,\n",
            "       [ 0.,  1.,  0., ...,  1.,  0., -1.],\n",
            "       [ 0.,  1.,  0., ...,  1.,  0., -1.],\n",
            "       [ 0.,  1.,  0., ...,  1.,  0., -1.]]), array([[ 0.,  1.,  0., ...,  1.,  0., -1.],\n",
            "       [ 0.,  1.,  0., ...,  1.,  0., -1.],\n",
            "       [ 0.,  1.,  1., ...,  1.,  0., -1.],\n",
            "       ...,\n",
            "       [ 0.,  1.,  0., ...,  1.,  0., -1.],\n",
            "       [ 0.,  1.,  0., ...,  1.,  0., -1.],\n",
            "       [ 0.,  1.,  1., ...,  1.,  0., -1.]]), array([[ 0.,  1.,  0., ...,  1.,  0., -1.],\n",
            "       [ 0.,  1.,  0., ...,  1.,  0., -1.],\n",
            "       [ 0.,  1.,  0., ...,  1.,  0., -1.],\n",
            "       ...,\n",
            "       [ 0.,  1.,  0., ...,  1.,  0., -1.],\n",
            "       [ 0.,  1.,  0., ...,  1.,  0., -1.],\n",
            "       [ 0.,  1.,  0., ...,  1.,  0., -1.]]), array([[ 0.,  1.,  0., ...,  1.,  0., -1.],\n",
            "       [ 0.,  1.,  0., ...,  1.,  0., -1.],\n",
            "       [ 0.,  1.,  0., ...,  1.,  0., -1.],\n",
            "       ...,\n",
            "       [ 0.,  1.,  0., ...,  1.,  0., -1.],\n",
            "       [ 0.,  1.,  0., ...,  1.,  0., -1.],\n",
            "       [ 0.,  1.,  0., ...,  1.,  0., -1.]])]\n"
          ]
        }
      ]
    },
    {
      "cell_type": "code",
      "source": [
        "print(worklist_node_labels)"
      ],
      "metadata": {
        "colab": {
          "base_uri": "https://localhost:8080/"
        },
        "id": "zgMkY_Y-5p2n",
        "outputId": "762d9ab3-be22-4333-803a-edb636143971"
      },
      "execution_count": 4,
      "outputs": [
        {
          "output_type": "stream",
          "name": "stdout",
          "text": [
            "[array([[ 5997, 19835,   969, ...,  4455, 27017, 27025],\n",
            "       [41207, 22040, 41207, ...,   135,   186,   153],\n",
            "       [13615, 16412, 16377, ..., 41754, 41780, 41767],\n",
            "       ...,\n",
            "       [39599,  9995, 38842, ..., 33868, 20856, 14348],\n",
            "       [39954,  9995, 10131, ...,  2117,  2259,  2251],\n",
            "       [32509, 19793, 19783, ...,  7313, 42107, 41499]]), array([[34307, 23565,  5042, ...,  5114, 12844, 12993],\n",
            "       [36450, 36179, 36450, ..., 22359, 28058, 30979],\n",
            "       [36450, 36179, 33947, ...,  9673, 20209, 12537],\n",
            "       ...,\n",
            "       [ 7427, 39513, 19626, ..., 25109, 25119, 27062],\n",
            "       [33656, 20125, 24230, ..., 28043, 29127, 29091],\n",
            "       [ 8127, 38554,  7700, ..., 24445, 25489,  3057]]), array([[41331,  1284,  1255, ..., 32082, 18737, 18660],\n",
            "       [ 1284,  1349,  1363, ...,  3939,  5692, 17395],\n",
            "       [24386,  5147, 32020, ..., 28096,  6446, 41308],\n",
            "       ...,\n",
            "       [ 3375, 19321,  1419, ..., 17371, 28421, 17371],\n",
            "       [44210,  1306,  3592, ..., 11490,  1774, 35930],\n",
            "       [42880, 30200, 36066, ...,  1580,  1412,  1281]]), array([[36929, 11842, 11826, ..., 52086,  3776, 52086],\n",
            "       [35302, 22138, 17078, ..., 10357,  1643, 10357],\n",
            "       [ 8844,  8561, 42692, ..., 24552, 39846, 19576],\n",
            "       ...,\n",
            "       [ 2397, 51377,   961, ..., 16770, 14170, 45505],\n",
            "       [ 2397, 51377, 24576, ..., 11841, 48797, 11841],\n",
            "       [49880, 31378, 39984, ..., 19015, 19026, 18944]])]\n"
          ]
        }
      ]
    },
    {
      "cell_type": "code",
      "source": [
        "for i in range(0,len(worklist_adjacency_matrix)):\n",
        "  worklist_adjacency_matrix[i] = worklist_adjacency_matrix[i][:,:-1]"
      ],
      "metadata": {
        "id": "GnhQcLvQ6APh"
      },
      "execution_count": 5,
      "outputs": []
    },
    {
      "cell_type": "code",
      "source": [
        "worklist_node_labels[0].shape"
      ],
      "metadata": {
        "colab": {
          "base_uri": "https://localhost:8080/"
        },
        "id": "2KjELoec5sfu",
        "outputId": "9c163608-4c12-410a-8157-474be2045334"
      },
      "execution_count": 6,
      "outputs": [
        {
          "output_type": "execute_result",
          "data": {
            "text/plain": [
              "(20000, 21)"
            ]
          },
          "metadata": {},
          "execution_count": 6
        }
      ]
    },
    {
      "cell_type": "code",
      "source": [
        "worklist_adjacency_matrix[0].shape"
      ],
      "metadata": {
        "colab": {
          "base_uri": "https://localhost:8080/"
        },
        "id": "uL31DnMZ54P8",
        "outputId": "394ba443-25df-4c09-f857-5b0592ba8230"
      },
      "execution_count": 7,
      "outputs": [
        {
          "output_type": "execute_result",
          "data": {
            "text/plain": [
              "(20000, 441)"
            ]
          },
          "metadata": {},
          "execution_count": 7
        }
      ]
    },
    {
      "cell_type": "code",
      "source": [
        "sample_node = worklist_node_labels[0][3]\n",
        "sample_adj = worklist_adjacency_matrix[0][3]\n",
        "sample_adj = sample_adj.reshape(21,21)\n",
        "print(sample_adj.reshape(21,21))\n",
        "print(sample_adj.shape)\n",
        "print(sample_node)\n",
        "print(sample_node.shape)"
      ],
      "metadata": {
        "colab": {
          "base_uri": "https://localhost:8080/"
        },
        "id": "KK74nYG95-kD",
        "outputId": "a49ba485-db2c-439e-fe00-e7f558286acd"
      },
      "execution_count": 10,
      "outputs": [
        {
          "output_type": "stream",
          "name": "stdout",
          "text": [
            "[[0. 1. 0. 0. 0. 0. 0. 0. 0. 0. 0. 0. 0. 0. 0. 0. 0. 0. 0. 0. 0.]\n",
            " [1. 0. 1. 0. 0. 0. 0. 0. 0. 0. 0. 0. 0. 0. 0. 0. 0. 0. 0. 0. 0.]\n",
            " [0. 1. 0. 1. 0. 0. 0. 0. 0. 0. 0. 0. 0. 0. 0. 0. 0. 0. 0. 0. 0.]\n",
            " [0. 0. 1. 0. 1. 0. 0. 0. 0. 0. 0. 0. 0. 0. 0. 0. 0. 0. 0. 0. 0.]\n",
            " [0. 0. 0. 1. 0. 1. 0. 0. 0. 0. 0. 0. 0. 0. 1. 0. 0. 0. 0. 0. 0.]\n",
            " [0. 0. 0. 0. 1. 0. 1. 0. 0. 0. 1. 0. 0. 1. 0. 1. 0. 0. 0. 0. 0.]\n",
            " [0. 0. 0. 0. 0. 1. 0. 1. 0. 1. 0. 1. 1. 0. 1. 0. 0. 0. 0. 0. 0.]\n",
            " [0. 0. 0. 0. 0. 0. 1. 0. 1. 0. 1. 0. 0. 1. 0. 0. 0. 0. 0. 0. 0.]\n",
            " [0. 0. 0. 0. 0. 0. 0. 1. 0. 1. 0. 0. 0. 0. 0. 0. 0. 0. 0. 0. 0.]\n",
            " [0. 0. 0. 0. 0. 0. 1. 0. 1. 0. 1. 0. 0. 1. 0. 0. 0. 0. 0. 0. 0.]\n",
            " [0. 0. 0. 0. 0. 1. 0. 1. 0. 1. 0. 1. 1. 0. 1. 0. 0. 0. 0. 0. 0.]\n",
            " [0. 0. 0. 0. 0. 0. 1. 0. 0. 0. 1. 0. 1. 1. 0. 0. 0. 0. 0. 0. 0.]\n",
            " [0. 0. 0. 0. 0. 0. 1. 0. 0. 0. 1. 1. 0. 1. 0. 0. 0. 0. 0. 0. 0.]\n",
            " [0. 0. 0. 0. 0. 1. 0. 1. 0. 1. 0. 1. 1. 0. 1. 0. 0. 0. 0. 0. 0.]\n",
            " [0. 0. 0. 0. 1. 0. 1. 0. 0. 0. 1. 0. 0. 1. 0. 1. 0. 0. 0. 0. 0.]\n",
            " [0. 0. 0. 0. 0. 1. 0. 0. 0. 0. 0. 0. 0. 0. 1. 0. 1. 1. 0. 0. 0.]\n",
            " [0. 0. 0. 0. 0. 0. 0. 0. 0. 0. 0. 0. 0. 0. 0. 1. 0. 1. 0. 0. 0.]\n",
            " [0. 0. 0. 0. 0. 0. 0. 0. 0. 0. 0. 0. 0. 0. 0. 1. 1. 0. 1. 0. 0.]\n",
            " [0. 0. 0. 0. 0. 0. 0. 0. 0. 0. 0. 0. 0. 0. 0. 0. 0. 1. 0. 1. 1.]\n",
            " [0. 0. 0. 0. 0. 0. 0. 0. 0. 0. 0. 0. 0. 0. 0. 0. 0. 0. 1. 0. 1.]\n",
            " [0. 0. 0. 0. 0. 0. 0. 0. 0. 0. 0. 0. 0. 0. 0. 0. 0. 0. 1. 1. 0.]]\n",
            "(21, 21)\n",
            "[ 7474  7462    87 16766  2911  1000  1035 35092 35449 35092  1035  6371\n",
            " 35017  1035  1000   954 19311  9257 42290 42241 34944]\n",
            "(21,)\n"
          ]
        }
      ]
    },
    {
      "cell_type": "code",
      "source": [
        "# using the node_labels\n",
        "def node_label_duplicate(node_labels):\n",
        "  counter = 0\n",
        "  for i in range(0, node_labels.shape[0] - 1):\n",
        "    for j in range(i + 1, node_labels.shape[0]):\n",
        "      if(node_labels[i] == node_labels[j]):\n",
        "        print(i,j)\n",
        "        counter = counter + 1\n",
        "  return counter"
      ],
      "metadata": {
        "id": "Qqemmk0UB7Rp"
      },
      "execution_count": 15,
      "outputs": []
    },
    {
      "cell_type": "code",
      "source": [
        "def isOverlap(line_1, line_2):\n",
        "  if(len(line_1) != len(line_2)):\n",
        "    return False\n",
        "  else:\n",
        "    for i in range(0, len(line_1)):\n",
        "      if(line_1[i] != line_2[i]):\n",
        "        return False\n",
        "  return True"
      ],
      "metadata": {
        "id": "3ibH0wOj_qA1"
      },
      "execution_count": 11,
      "outputs": []
    },
    {
      "cell_type": "code",
      "source": [
        "node_label_duplicate(sample_node)"
      ],
      "metadata": {
        "colab": {
          "base_uri": "https://localhost:8080/"
        },
        "id": "ACQ1OeCeZ9kz",
        "outputId": "debc811f-d35a-47b4-fae3-4bc6307ff6ec"
      },
      "execution_count": 16,
      "outputs": [
        {
          "output_type": "stream",
          "name": "stdout",
          "text": [
            "5 14\n",
            "6 10\n",
            "6 13\n",
            "7 9\n",
            "10 13\n"
          ]
        },
        {
          "output_type": "execute_result",
          "data": {
            "text/plain": [
              "5"
            ]
          },
          "metadata": {},
          "execution_count": 16
        }
      ]
    },
    {
      "cell_type": "code",
      "source": [
        "#using the adjacency matrix\n",
        "def node_number_duplicate(adj_matrix):\n",
        "  counter = 0\n",
        "  for i in range(0, adj_matrix.shape[0] - 1):\n",
        "    for j in range(i + 1, adj_matrix.shape[1]):\n",
        "      if(isOverlap(adj_matrix[i], adj_matrix[j]) == True):\n",
        "        counter = counter + 1\n",
        "        print(i,j)\n",
        "  return counter"
      ],
      "metadata": {
        "id": "YoPlOb8H6nK4"
      },
      "execution_count": 12,
      "outputs": []
    },
    {
      "cell_type": "code",
      "source": [
        "node_number_duplicate(sample_adj)"
      ],
      "metadata": {
        "colab": {
          "base_uri": "https://localhost:8080/"
        },
        "id": "CEsc0Kh67avO",
        "outputId": "04b2ec97-5ec6-4a30-a47c-b6e23f269b08"
      },
      "execution_count": 13,
      "outputs": [
        {
          "output_type": "stream",
          "name": "stdout",
          "text": [
            "5 14\n",
            "6 10\n",
            "6 13\n",
            "7 9\n",
            "10 13\n"
          ]
        },
        {
          "output_type": "execute_result",
          "data": {
            "text/plain": [
              "5"
            ]
          },
          "metadata": {},
          "execution_count": 13
        }
      ]
    },
    {
      "cell_type": "code",
      "source": [
        "print(sample_adj[5])\n",
        "print(sample_adj[14])"
      ],
      "metadata": {
        "colab": {
          "base_uri": "https://localhost:8080/"
        },
        "id": "lphc67047lUV",
        "outputId": "47aac856-35fb-4ec4-c25f-8ac354c941a2"
      },
      "execution_count": 14,
      "outputs": [
        {
          "output_type": "stream",
          "name": "stdout",
          "text": [
            "[0. 0. 0. 0. 1. 0. 1. 0. 0. 0. 1. 0. 0. 1. 0. 1. 0. 0. 0. 0. 0.]\n",
            "[0. 0. 0. 0. 1. 0. 1. 0. 0. 0. 1. 0. 0. 1. 0. 1. 0. 0. 0. 0. 0.]\n"
          ]
        }
      ]
    },
    {
      "cell_type": "code",
      "source": [
        "print(sample_node[5])\n",
        "print(sample_node[14])"
      ],
      "metadata": {
        "colab": {
          "base_uri": "https://localhost:8080/"
        },
        "id": "Bl4m6CcJaEMN",
        "outputId": "307787ba-2e02-400b-bce1-e6fe8b5271eb"
      },
      "execution_count": 17,
      "outputs": [
        {
          "output_type": "stream",
          "name": "stdout",
          "text": [
            "1000\n",
            "1000\n"
          ]
        }
      ]
    },
    {
      "cell_type": "code",
      "source": [],
      "metadata": {
        "id": "wY2sgskVaUSk"
      },
      "execution_count": null,
      "outputs": []
    }
  ]
}